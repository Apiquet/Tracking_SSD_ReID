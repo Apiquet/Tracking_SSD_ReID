{
 "cells": [
  {
   "cell_type": "code",
   "execution_count": 1,
   "metadata": {},
   "outputs": [],
   "source": [
    "%load_ext autoreload\n",
    "%autoreload 2"
   ]
  },
  {
   "cell_type": "code",
   "execution_count": 2,
   "metadata": {},
   "outputs": [],
   "source": [
    "from models.SSD300 import SSD300\n",
    "from data_management.VOC2012ManagerObjDetection import VOC2012ManagerObjDetection\n",
    "import numpy as np\n",
    "import tensorflow as tf\n",
    "from utils.eval import *\n",
    "keras = tf.keras"
   ]
  },
  {
   "cell_type": "markdown",
   "metadata": {},
   "source": [
    "# Infer on video"
   ]
  },
  {
   "cell_type": "code",
   "execution_count": 3,
   "metadata": {},
   "outputs": [],
   "source": [
    "manager = VOC2012ManagerObjDetection()\n",
    "SSD300_model = SSD300(21)\n",
    "SSD300_model(tf.zeros([5, 300, 300, 3]))\n",
    "\n",
    "SSD300_model.load_weights(\"../data/weights_alldata/ssd_weights_epoch_0390.h5\")\n",
    "\n",
    "out_path = \"imgs/\""
   ]
  },
  {
   "cell_type": "code",
   "execution_count": 4,
   "metadata": {},
   "outputs": [
    {
     "name": "stderr",
     "output_type": "stream",
     "text": [
      "100%|████████████████████████████████████████████████████████████████████████████████| 250/250 [00:13<00:00, 18.15it/s]\n"
     ]
    }
   ],
   "source": [
    "video_path = \"imgs/skate.mp4\"\n",
    "pltPredOnVideo(SSD300_model, manager, video_path, out_path + \"skate_detection.gif\", score_threshold=0.95,\n",
    "               start_idx=130, end_idx=250, nms=True, skip=3, resize=(500, 234))"
   ]
  },
  {
   "cell_type": "code",
   "execution_count": 5,
   "metadata": {},
   "outputs": [
    {
     "name": "stderr",
     "output_type": "stream",
     "text": [
      "100%|████████████████████████████████████████████████████████████████████████████████| 180/180 [00:21<00:00,  8.42it/s]\n"
     ]
    }
   ],
   "source": [
    "video_path = \"imgs/person_dog.mp4\"\n",
    "pltPredOnVideo(SSD300_model, manager, video_path, out_path + \"person_dog_detection.gif\",\n",
    "                         score_threshold=0.95, start_idx=50, end_idx=180, nms=True, skip=2, resize=(500, 234), fps=40)"
   ]
  },
  {
   "cell_type": "code",
   "execution_count": null,
   "metadata": {},
   "outputs": [],
   "source": []
  }
 ],
 "metadata": {
  "kernelspec": {
   "display_name": "Python 3",
   "language": "python",
   "name": "python3"
  },
  "language_info": {
   "codemirror_mode": {
    "name": "ipython",
    "version": 3
   },
   "file_extension": ".py",
   "mimetype": "text/x-python",
   "name": "python",
   "nbconvert_exporter": "python",
   "pygments_lexer": "ipython3",
   "version": "3.8.5"
  }
 },
 "nbformat": 4,
 "nbformat_minor": 4
}
