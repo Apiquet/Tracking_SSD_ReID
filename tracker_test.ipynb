{
 "cells": [
  {
   "cell_type": "code",
   "execution_count": 1,
   "metadata": {},
   "outputs": [],
   "source": [
    "%load_ext autoreload\n",
    "%autoreload 2"
   ]
  },
  {
   "cell_type": "markdown",
   "metadata": {},
   "source": [
    "## With SSD model implemented"
   ]
  },
  {
   "cell_type": "code",
   "execution_count": 2,
   "metadata": {},
   "outputs": [],
   "source": [
    "from data_management.VOC2012ManagerObjDetection import VOC2012ManagerObjDetection\n",
    "manager = VOC2012ManagerObjDetection()\n",
    "\n",
    "import tensorflow as tf\n",
    "from models.SSD300 import SSD300\n",
    "SSD300_model = SSD300(21)\n",
    "tmp_tensor = tf.zeros([5, 300, 300, 3])\n",
    "SSD300_model(tmp_tensor)\n",
    "\n",
    "SSD300_model.load_weights(\"../data/weights_alldata/ssd_weights_epoch_0380.h5\")\n",
    "out_path = \"imgs/\""
   ]
  },
  {
   "cell_type": "code",
   "execution_count": 3,
   "metadata": {},
   "outputs": [],
   "source": [
    "from utils.eval import *"
   ]
  },
  {
   "cell_type": "code",
   "execution_count": 4,
   "metadata": {},
   "outputs": [],
   "source": [
    "from models.NaiveTracker import NaiveTracker\n",
    "tracker = NaiveTracker()"
   ]
  },
  {
   "cell_type": "code",
   "execution_count": 11,
   "metadata": {},
   "outputs": [
    {
     "name": "stderr",
     "output_type": "stream",
     "text": [
      "100%|████████████████████████████████████████████████████████████████████████████████| 210/210 [00:27<00:00,  7.77it/s]\n"
     ]
    }
   ],
   "source": [
    "video_path = \"imgs/person_dog.mp4\"\n",
    "pltPredOnVideo(SSD300_model, manager, video_path,\n",
    "               out_path + \"person_dog_tracking.gif\",\n",
    "               score_threshold=0.95, start_idx=60, end_idx=210, nms=True, skip=2,\n",
    "               resize=(500, 234), tracker=tracker, fps=22)"
   ]
  },
  {
   "cell_type": "code",
   "execution_count": 28,
   "metadata": {},
   "outputs": [
    {
     "name": "stderr",
     "output_type": "stream",
     "text": [
      "100%|████████████████████████████████████████████████████████████████████████████████| 250/250 [00:16<00:00, 15.26it/s]\n"
     ]
    }
   ],
   "source": [
    "video_path = \"imgs/skate.mp4\"\n",
    "pltPredOnVideo(SSD300_model, manager, video_path,\n",
    "               out_path + \"skate_tracking.gif\",\n",
    "               score_threshold=0.95, start_idx=140, end_idx=250, nms=True, skip=2,\n",
    "               resize=(500, 234), tracker=tracker, fps=22)"
   ]
  },
  {
   "cell_type": "markdown",
   "metadata": {},
   "source": [
    "## With SSD from TensorFlow Hub"
   ]
  },
  {
   "cell_type": "code",
   "execution_count": 12,
   "metadata": {},
   "outputs": [
    {
     "name": "stdout",
     "output_type": "stream",
     "text": [
      "INFO:tensorflow:Saver not created because there are no variables in the graph to restore\n"
     ]
    },
    {
     "name": "stderr",
     "output_type": "stream",
     "text": [
      "INFO:tensorflow:Saver not created because there are no variables in the graph to restore\n"
     ]
    },
    {
     "data": {
      "text/plain": [
       "KeysView(_SignatureMap({'default': <ConcreteFunction pruned(images) at 0x273D31AD850>}))"
      ]
     },
     "execution_count": 12,
     "metadata": {},
     "output_type": "execute_result"
    }
   ],
   "source": [
    "import tensorflow as tf\n",
    "import tensorflow_hub as hub\n",
    "module_handle = \"https://tfhub.dev/google/openimages_v4/ssd/mobilenet_v2/1\"\n",
    "model = hub.load(module_handle)\n",
    "model.signatures.keys()"
   ]
  },
  {
   "cell_type": "code",
   "execution_count": 13,
   "metadata": {},
   "outputs": [],
   "source": [
    "detector = model.signatures['default']"
   ]
  },
  {
   "cell_type": "code",
   "execution_count": 14,
   "metadata": {},
   "outputs": [],
   "source": [
    "from utils.eval import *"
   ]
  },
  {
   "cell_type": "code",
   "execution_count": 15,
   "metadata": {},
   "outputs": [],
   "source": [
    "from models.NaiveTracker import NaiveTracker\n",
    "tracker = NaiveTracker()"
   ]
  },
  {
   "cell_type": "code",
   "execution_count": 16,
   "metadata": {},
   "outputs": [
    {
     "name": "stderr",
     "output_type": "stream",
     "text": [
      "100%|████████████████████████████████████████████████████████████████████████████████| 440/440 [01:00<00:00,  7.27it/s]\n"
     ]
    }
   ],
   "source": [
    "video_path = \"imgs/horses.mp4\"\n",
    "out_path = \"imgs/\"\n",
    "pltPredOnVideoTfHub(detector, video_path, out_path + \"horses_ssd_tfhub.gif\",\n",
    "                    score_threshold=0.112, start_idx=270, end_idx=440, skip=1,\n",
    "                    resize=(500,200), tracker=tracker, fps=20, input_shape=(512,512),\n",
    "                    targets=[\"Horse\", \"Person\", \"Dog\"], lifespan_thres = 8)"
   ]
  },
  {
   "cell_type": "code",
   "execution_count": null,
   "metadata": {},
   "outputs": [],
   "source": []
  }
 ],
 "metadata": {
  "kernelspec": {
   "display_name": "Python 3",
   "language": "python",
   "name": "python3"
  },
  "language_info": {
   "codemirror_mode": {
    "name": "ipython",
    "version": 3
   },
   "file_extension": ".py",
   "mimetype": "text/x-python",
   "name": "python",
   "nbconvert_exporter": "python",
   "pygments_lexer": "ipython3",
   "version": "3.8.5"
  }
 },
 "nbformat": 4,
 "nbformat_minor": 4
}
