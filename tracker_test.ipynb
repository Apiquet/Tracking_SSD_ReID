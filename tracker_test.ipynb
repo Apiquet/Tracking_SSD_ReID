{
 "cells": [
  {
   "cell_type": "code",
   "execution_count": 1,
   "metadata": {},
   "outputs": [],
   "source": [
    "%load_ext autoreload\n",
    "%autoreload 2"
   ]
  },
  {
   "cell_type": "code",
   "execution_count": 2,
   "metadata": {},
   "outputs": [],
   "source": [
    "from data_management.VOC2012ManagerObjDetection import VOC2012ManagerObjDetection\n",
    "from models.NaiveTracker import NaiveTracker\n",
    "from models.SSD300 import SSD300\n",
    "from utils.eval import *\n",
    "\n",
    "import tensorflow as tf"
   ]
  },
  {
   "cell_type": "markdown",
   "metadata": {},
   "source": [
    "## With SSD model implemented"
   ]
  },
  {
   "cell_type": "code",
   "execution_count": 3,
   "metadata": {},
   "outputs": [],
   "source": [
    "manager = VOC2012ManagerObjDetection()\n",
    "\n",
    "SSD300_model = SSD300(21)\n",
    "SSD300_model(tf.zeros([5, 300, 300, 3]))\n",
    "SSD300_model.load_weights(\"../data/weights_alldata/ssd_weights_epoch_0380.h5\")\n",
    "\n",
    "tracker = NaiveTracker()\n",
    "\n",
    "out_path = \"imgs/\""
   ]
  },
  {
   "cell_type": "code",
   "execution_count": 4,
   "metadata": {},
   "outputs": [
    {
     "name": "stderr",
     "output_type": "stream",
     "text": [
      "100%|████████████████████████████████████████████████████████████████████████████████| 210/210 [00:25<00:00,  8.39it/s]\n"
     ]
    }
   ],
   "source": [
    "video_path = \"imgs/person_dog.mp4\"\n",
    "pltPredOnVideo(SSD300_model, manager, video_path,\n",
    "               out_path + \"person_dog_tracking.gif\",\n",
    "               score_threshold=0.95, start_idx=60, end_idx=210, nms=True, skip=2,\n",
    "               resize=(500, 234), tracker=tracker, fps=22)"
   ]
  },
  {
   "cell_type": "code",
   "execution_count": 5,
   "metadata": {},
   "outputs": [
    {
     "name": "stderr",
     "output_type": "stream",
     "text": [
      "100%|████████████████████████████████████████████████████████████████████████████████| 250/250 [00:17<00:00, 14.01it/s]\n"
     ]
    }
   ],
   "source": [
    "video_path = \"imgs/skate.mp4\"\n",
    "pltPredOnVideo(SSD300_model, manager, video_path,\n",
    "               out_path + \"skate_tracking.gif\",\n",
    "               score_threshold=0.95, start_idx=140, end_idx=250, nms=True, skip=2,\n",
    "               resize=(500, 234), tracker=tracker, fps=22)"
   ]
  },
  {
   "cell_type": "markdown",
   "metadata": {},
   "source": [
    "## With SSD from TensorFlow Hub"
   ]
  },
  {
   "cell_type": "code",
   "execution_count": 6,
   "metadata": {},
   "outputs": [],
   "source": [
    "import tensorflow as tf\n",
    "import tensorflow_hub as hub\n",
    "\n",
    "from models.NaiveTracker import NaiveTracker\n",
    "from utils.eval import *"
   ]
  },
  {
   "cell_type": "code",
   "execution_count": 7,
   "metadata": {},
   "outputs": [
    {
     "name": "stdout",
     "output_type": "stream",
     "text": [
      "INFO:tensorflow:Saver not created because there are no variables in the graph to restore\n"
     ]
    },
    {
     "name": "stderr",
     "output_type": "stream",
     "text": [
      "INFO:tensorflow:Saver not created because there are no variables in the graph to restore\n"
     ]
    },
    {
     "data": {
      "text/plain": [
       "KeysView(_SignatureMap({'default': <ConcreteFunction pruned(images) at 0x22A569270A0>}))"
      ]
     },
     "execution_count": 7,
     "metadata": {},
     "output_type": "execute_result"
    }
   ],
   "source": [
    "module_handle = \"https://tfhub.dev/google/openimages_v4/ssd/mobilenet_v2/1\"\n",
    "model = hub.load(module_handle)\n",
    "model.signatures.keys()"
   ]
  },
  {
   "cell_type": "code",
   "execution_count": 8,
   "metadata": {},
   "outputs": [],
   "source": [
    "detector = model.signatures['default']"
   ]
  },
  {
   "cell_type": "code",
   "execution_count": 9,
   "metadata": {},
   "outputs": [],
   "source": [
    "tracker = NaiveTracker()"
   ]
  },
  {
   "cell_type": "code",
   "execution_count": 10,
   "metadata": {},
   "outputs": [
    {
     "name": "stderr",
     "output_type": "stream",
     "text": [
      "100%|████████████████████████████████████████████████████████████████████████████████| 440/440 [00:57<00:00,  7.63it/s]\n"
     ]
    }
   ],
   "source": [
    "video_path = \"imgs/horses.mp4\"\n",
    "out_path = \"imgs/\"\n",
    "pltPredOnVideoTfHub(detector, video_path, out_path + \"horses_ssd_tfhub_tracking.gif\",\n",
    "                    score_threshold=0.112, start_idx=270, end_idx=440, skip=1,\n",
    "                    resize=(500,200), tracker=tracker, fps=20, input_shape=(512,512),\n",
    "                    targets=[\"Horse\", \"Person\", \"Dog\"], lifespan_thres = 8)"
   ]
  },
  {
   "cell_type": "code",
   "execution_count": null,
   "metadata": {},
   "outputs": [],
   "source": []
  }
 ],
 "metadata": {
  "kernelspec": {
   "display_name": "Python 3",
   "language": "python",
   "name": "python3"
  },
  "language_info": {
   "codemirror_mode": {
    "name": "ipython",
    "version": 3
   },
   "file_extension": ".py",
   "mimetype": "text/x-python",
   "name": "python",
   "nbconvert_exporter": "python",
   "pygments_lexer": "ipython3",
   "version": "3.8.5"
  }
 },
 "nbformat": 4,
 "nbformat_minor": 4
}
