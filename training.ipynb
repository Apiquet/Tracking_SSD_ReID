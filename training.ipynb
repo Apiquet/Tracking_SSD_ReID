{
 "cells": [
  {
   "cell_type": "code",
   "execution_count": null,
   "metadata": {},
   "outputs": [],
   "source": [
    "%load_ext autoreload\n",
    "%autoreload 2"
   ]
  },
  {
   "cell_type": "code",
   "execution_count": 1,
   "metadata": {},
   "outputs": [],
   "source": [
    "import tensorflow as tf\n",
    "from tqdm import tqdm\n",
    "import numpy as np\n",
    "tf.keras.backend.set_floatx('float16')"
   ]
  },
  {
   "cell_type": "code",
   "execution_count": null,
   "metadata": {},
   "outputs": [],
   "source": [
    "VOC_data_path = \"../data/VOCdevkit/VOC2012/\"\n",
    "preprocessed_data_path = \"../data/preprocessed_data/\"\n",
    "saved_weights_path = \"../data/saved_weights/\""
   ]
  },
  {
   "cell_type": "code",
   "execution_count": 2,
   "metadata": {},
   "outputs": [],
   "source": [
    "from data_management.VOC2012ManagerObjDetection import VOC2012ManagerObjDetection\n",
    "db_manager = VOC2012ManagerObjDetection(VOC_data_path,\n",
    "                                        batch_size=32, floatType=16)"
   ]
  },
  {
   "cell_type": "code",
   "execution_count": 3,
   "metadata": {},
   "outputs": [],
   "source": [
    "from models.SSD300 import SSD300\n",
    "SSD300_model = SSD300(21, floatType=16)\n",
    "SSD300_model.build(input_shape=(32, 300, 300, 3))\n",
    "SSD300_model.load_vgg16_imagenet_weights()"
   ]
  },
  {
   "cell_type": "code",
   "execution_count": 4,
   "metadata": {},
   "outputs": [],
   "source": [
    "from tensorflow.keras.optimizers.schedules import PiecewiseConstantDecay\n",
    "\n",
    "init_lr = 0.001\n",
    "lr_decay = PiecewiseConstantDecay(\n",
    "    boundaries=[80000, 10000, 120000],\n",
    "    values=[init_lr, 0.0005, 0.0001, 0.00005])\n",
    "\n",
    "optimizer = tf.keras.optimizers.SGD(\n",
    "    learning_rate=lr_decay,\n",
    "    momentum=0.9)"
   ]
  },
  {
   "cell_type": "code",
   "execution_count": 5,
   "metadata": {},
   "outputs": [],
   "source": [
    "from data_management.preprocessing import *\n",
    "# Preprocess data\n",
    "# to be done only once,\n",
    "# if the path exists: assuming that the preprocessing has already been done completely\n",
    "if not os.path.exists(preprocessed_data_path):\n",
    "    saveGTdata(VOC_data_path, preprocessed_data_path)"
   ]
  },
  {
   "cell_type": "code",
   "execution_count": 6,
   "metadata": {},
   "outputs": [
    {
     "name": "stderr",
     "output_type": "stream",
     "text": [
      "100%|████████████████████████████████████████████████████████████████████████████████| 374/374 [00:11<00:00, 31.17it/s]\n",
      "100%|███████████████████████████████████████████████████████████████████████████████| 374/374 [00:01<00:00, 307.41it/s]\n",
      "100%|████████████████████████████████████████████████████████████████████████████████| 374/374 [00:04<00:00, 93.44it/s]\n"
     ]
    }
   ],
   "source": [
    "from data_management.preprocessing import *\n",
    "imgs, confs, locs = loadGTdata(preprocessed_data_path, nb_data_to_load=100)"
   ]
  },
  {
   "cell_type": "code",
   "execution_count": 7,
   "metadata": {},
   "outputs": [],
   "source": [
    "# if a model was already trained\n",
    "#SSD300_model.load_weights(path)"
   ]
  },
  {
   "cell_type": "code",
   "execution_count": null,
   "metadata": {},
   "outputs": [],
   "source": [
    "from utils.train import *\n",
    "train(SSD300_model, optimizer,\n",
    "      imgs, confs, locs, weights_path=saved_weights_path,\n",
    "      num_epoch=2, inter_save=1)"
   ]
  },
  {
   "cell_type": "code",
   "execution_count": null,
   "metadata": {},
   "outputs": [],
   "source": []
  }
 ],
 "metadata": {
  "kernelspec": {
   "display_name": "Python 3",
   "language": "python",
   "name": "python3"
  },
  "language_info": {
   "codemirror_mode": {
    "name": "ipython",
    "version": 3
   },
   "file_extension": ".py",
   "mimetype": "text/x-python",
   "name": "python",
   "nbconvert_exporter": "python",
   "pygments_lexer": "ipython3",
   "version": "3.8.5"
  }
 },
 "nbformat": 4,
 "nbformat_minor": 4
}
